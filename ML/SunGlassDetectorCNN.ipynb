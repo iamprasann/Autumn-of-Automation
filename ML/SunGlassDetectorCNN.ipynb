{
  "nbformat": 4,
  "nbformat_minor": 0,
  "metadata": {
    "colab": {
      "name": "Untitled10.ipynb",
      "provenance": []
    },
    "kernelspec": {
      "name": "python3",
      "display_name": "Python 3"
    }
  },
  "cells": [
    {
      "cell_type": "code",
      "metadata": {
        "id": "qOTWuIHehBgD",
        "colab_type": "code",
        "colab": {
          "base_uri": "https://localhost:8080/",
          "height": 34
        },
        "outputId": "bbdb2713-d9ea-498b-c718-52b26c1d4b37"
      },
      "source": [
        "import numpy as np\n",
        "import matplotlib.pyplot as plt\n",
        "import os\n",
        "import cv2\n",
        "from tqdm import tqdm\n",
        "\n",
        "import random\n",
        "\n",
        "import tensorflow as tf\n",
        "import keras\n",
        "from tensorflow.keras.datasets import cifar10\n",
        "from tensorflow.keras.preprocessing.image import ImageDataGenerator\n",
        "from tensorflow.keras.models import Sequential\n",
        "from tensorflow.keras.layers import Dense, Dropout, Activation, Flatten\n",
        "from tensorflow.keras.layers import Conv2D, MaxPooling2D\n",
        "\n",
        "from sklearn.model_selection import train_test_split"
      ],
      "execution_count": 1,
      "outputs": [
        {
          "output_type": "stream",
          "text": [
            "Using TensorFlow backend.\n"
          ],
          "name": "stderr"
        }
      ]
    },
    {
      "cell_type": "code",
      "metadata": {
        "id": "qbRAvNF3hqpg",
        "colab_type": "code",
        "colab": {
          "base_uri": "https://localhost:8080/",
          "height": 50
        },
        "outputId": "a790803c-86ec-40c5-b3e3-b719852d0352"
      },
      "source": [
        "DATADIR = \"/content/drive/My Drive/ML\"\n",
        "CATEGORIES = [\"no_sunglass\", \"sunglass\"]\n",
        "\n",
        "data_set = []\n",
        "\n",
        "for category in CATEGORIES:  \n",
        "    path = os.path.join(DATADIR,category)  \n",
        "    class_num = CATEGORIES.index(category)\n",
        "    for img in tqdm(os.listdir(path)):  \n",
        "        img_array = cv2.imread(os.path.join(path,img) ,cv2.IMREAD_GRAYSCALE)  \n",
        "        arr_main = keras.preprocessing.image.img_to_array(img_array)\n",
        "        data_set.append([arr_main, class_num])\n",
        "        "
      ],
      "execution_count": 3,
      "outputs": [
        {
          "output_type": "stream",
          "text": [
            "100%|██████████| 313/313 [03:05<00:00,  1.69it/s]\n",
            "100%|██████████| 311/311 [03:25<00:00,  1.52it/s]\n"
          ],
          "name": "stderr"
        }
      ]
    },
    {
      "cell_type": "code",
      "metadata": {
        "id": "YgW88WbglShS",
        "colab_type": "code",
        "colab": {}
      },
      "source": [
        "random.shuffle(data_set)"
      ],
      "execution_count": 4,
      "outputs": []
    },
    {
      "cell_type": "code",
      "metadata": {
        "id": "yAYuQBaIlbhn",
        "colab_type": "code",
        "colab": {}
      },
      "source": [
        "X = []\n",
        "y = []\n",
        "\n",
        "for features,label in data_set:\n",
        "    X.append(features)\n",
        "    y.append(label)"
      ],
      "execution_count": 5,
      "outputs": []
    },
    {
      "cell_type": "code",
      "metadata": {
        "id": "cV1ly32_myJV",
        "colab_type": "code",
        "colab": {}
      },
      "source": [
        "X = np.array(X)\n",
        "y = np.array(y)"
      ],
      "execution_count": 12,
      "outputs": []
    },
    {
      "cell_type": "code",
      "metadata": {
        "id": "hPufRrllnFob",
        "colab_type": "code",
        "colab": {}
      },
      "source": [
        "X_train,X_test,y_train,y_test = train_test_split(X,y,test_size = 0.15, random_state = 0)"
      ],
      "execution_count": 13,
      "outputs": []
    },
    {
      "cell_type": "code",
      "metadata": {
        "id": "7ey2OTb-nHRW",
        "colab_type": "code",
        "colab": {
          "base_uri": "https://localhost:8080/",
          "height": 370
        },
        "outputId": "101f1fc1-44cc-468a-c92a-922527b59fef"
      },
      "source": [
        "model = Sequential()\n",
        "\n",
        "model.add(Conv2D(256, (3, 3)))\n",
        "model.add(Activation('relu'))\n",
        "model.add(MaxPooling2D(pool_size=(2, 2)))\n",
        "\n",
        "model.add(Conv2D(256, (3, 3)))\n",
        "model.add(Activation('relu'))\n",
        "model.add(MaxPooling2D(pool_size=(2, 2)))\n",
        "\n",
        "model.add(Flatten())  \n",
        "\n",
        "model.add(Dense(64))\n",
        "\n",
        "model.add(Dense(1))\n",
        "model.add(Activation('sigmoid'))\n",
        "\n",
        "model.compile(loss='binary_crossentropy', optimizer='adam', metrics=['accuracy'])\n",
        "\n",
        "model.fit(X, y, batch_size=10, epochs=10, validation_split=0.2)"
      ],
      "execution_count": 15,
      "outputs": [
        {
          "output_type": "stream",
          "text": [
            "Epoch 1/10\n",
            "50/50 [==============================] - 134s 3s/step - loss: 151.7845 - accuracy: 0.4890 - val_loss: 0.6658 - val_accuracy: 0.5200\n",
            "Epoch 2/10\n",
            "50/50 [==============================] - 138s 3s/step - loss: 0.5566 - accuracy: 0.7174 - val_loss: 0.5208 - val_accuracy: 0.8000\n",
            "Epoch 3/10\n",
            "50/50 [==============================] - 134s 3s/step - loss: 0.3462 - accuracy: 0.8557 - val_loss: 0.3720 - val_accuracy: 0.8400\n",
            "Epoch 4/10\n",
            "50/50 [==============================] - 134s 3s/step - loss: 0.3031 - accuracy: 0.8778 - val_loss: 0.4581 - val_accuracy: 0.7680\n",
            "Epoch 5/10\n",
            "50/50 [==============================] - 134s 3s/step - loss: 0.2248 - accuracy: 0.9058 - val_loss: 0.3980 - val_accuracy: 0.8640\n",
            "Epoch 6/10\n",
            "50/50 [==============================] - 138s 3s/step - loss: 0.1680 - accuracy: 0.9178 - val_loss: 0.3629 - val_accuracy: 0.8320\n",
            "Epoch 7/10\n",
            "50/50 [==============================] - 134s 3s/step - loss: 0.0924 - accuracy: 0.9599 - val_loss: 0.5054 - val_accuracy: 0.8400\n",
            "Epoch 8/10\n",
            "50/50 [==============================] - 135s 3s/step - loss: 0.0617 - accuracy: 0.9820 - val_loss: 0.4544 - val_accuracy: 0.8880\n",
            "Epoch 9/10\n",
            "50/50 [==============================] - 134s 3s/step - loss: 0.0429 - accuracy: 0.9800 - val_loss: 0.4287 - val_accuracy: 0.8720\n",
            "Epoch 10/10\n",
            "50/50 [==============================] - 134s 3s/step - loss: 0.0498 - accuracy: 0.9820 - val_loss: 0.4012 - val_accuracy: 0.8960\n"
          ],
          "name": "stdout"
        },
        {
          "output_type": "execute_result",
          "data": {
            "text/plain": [
              "<tensorflow.python.keras.callbacks.History at 0x7fa9fc40efd0>"
            ]
          },
          "metadata": {
            "tags": []
          },
          "execution_count": 15
        }
      ]
    },
    {
      "cell_type": "code",
      "metadata": {
        "id": "6aCB7EMkpOMg",
        "colab_type": "code",
        "colab": {}
      },
      "source": [
        "y_test_pred = model.predict(X_test)\n",
        "y_test_pred = np.round(y_test_pred)"
      ],
      "execution_count": 16,
      "outputs": []
    },
    {
      "cell_type": "code",
      "metadata": {
        "id": "9jQUwut4pVd7",
        "colab_type": "code",
        "colab": {}
      },
      "source": [
        "def accuracy_score(y_test_pred, y_test):\n",
        "  sum = 0\n",
        "  for i in range(y_test.shape[0]):\n",
        "    sum = sum + abs(y_test[i]-y_test_pred[i])\n",
        "\n",
        "  return 1-(sum/y_test.shape[0])"
      ],
      "execution_count": 24,
      "outputs": []
    },
    {
      "cell_type": "code",
      "metadata": {
        "id": "PAKXlGuUujuS",
        "colab_type": "code",
        "colab": {
          "base_uri": "https://localhost:8080/",
          "height": 34
        },
        "outputId": "14b509e8-621e-41d7-d79d-d7d578989f0f"
      },
      "source": [
        "print(accuracy_score(y_test_pred, y_test))"
      ],
      "execution_count": 25,
      "outputs": [
        {
          "output_type": "stream",
          "text": [
            "[0.984]\n"
          ],
          "name": "stdout"
        }
      ]
    }
  ]
}
